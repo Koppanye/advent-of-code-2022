{
 "cells": [
  {
   "cell_type": "code",
   "execution_count": 91,
   "id": "5a038b13",
   "metadata": {},
   "outputs": [
    {
     "name": "stdout",
     "output_type": "stream",
     "text": [
      "1789\n"
     ]
    }
   ],
   "source": [
    "#15. feladat:\n",
    "import numpy as np\n",
    "\n",
    "with open('15_feladat.txt', 'r') as f:\n",
    "    lista = f.read().strip()\n",
    "    temp_grid = lista.split('\\n')\n",
    "\n",
    "    grid_height = len(temp_grid)\n",
    "    grid_length = len(temp_grid[0])\n",
    "    \n",
    "    grid = np.array([int(_) for _ in lista if _ != '\\n']).reshape(grid_height, -1)\n",
    "    \n",
    "    cnt = 2*(grid_length + grid_height) - 4\n",
    "    for i in range(1,grid_height-1):\n",
    "        for j in range(1, grid_length - 1):\n",
    "\n",
    "            l1, l2, l3, l4 = grid[i,:j], grid[i,j+1:], grid[:i,j], grid[i+1:, j]\n",
    "            m1, m2, m3, m4 = max(l1), max(l2), max(l3), max(l4)\n",
    "            if min([m1,m2,m3,m4]) < grid[i,j]:\n",
    "                cnt += 1\n",
    "        \n",
    "    print(cnt)\n",
    "    "
   ]
  },
  {
   "cell_type": "code",
   "execution_count": 93,
   "id": "4bbdacb4",
   "metadata": {},
   "outputs": [
    {
     "name": "stdout",
     "output_type": "stream",
     "text": [
      "314820\n"
     ]
    }
   ],
   "source": [
    "#16. feladat: \n",
    "\n",
    "scenic_score = []\n",
    "for i in range(1,grid_height-1):\n",
    "    for j in range(1, grid_length - 1):\n",
    "        l1, l2, l3, l4 = grid[i,:j], grid[i,j+1:], grid[:i,j], grid[i+1:, j]\n",
    "        \n",
    "        n1 = [k for k in range(j) if l1[k] >= grid[i,j]]\n",
    "        if n1 == []:\n",
    "            m1 = j\n",
    "        else:\n",
    "            m1 = j- max(n1)\n",
    "            \n",
    "        n2 = [k for k in range(grid_length-1-j) if l2[k] >= grid[i,j]]\n",
    "        if n2 == []:\n",
    "            m2 = grid_length-j-1\n",
    "        else:\n",
    "            m2 = min(n2) + 1\n",
    "            \n",
    "        n3 = [k for k in range(i) if l3[k] >= grid[i,j]]\n",
    "        if n3 == []:\n",
    "            m3 = i\n",
    "        else:\n",
    "            m3 = i - max(n3)\n",
    "            \n",
    "        n4 = [k for k in range(grid_length-1-i) if l4[k] >= grid[i,j]]\n",
    "        if n4 == []:\n",
    "            m4 = grid_length-i-1\n",
    "        else:\n",
    "            m4 = min(n4) + 1\n",
    "            \n",
    "        scenic_score.append(m1 * m2 * m3 * m4)\n",
    "print(max(scenic_score))"
   ]
  }
 ],
 "metadata": {
  "kernelspec": {
   "display_name": "Python 3 (ipykernel)",
   "language": "python",
   "name": "python3"
  },
  "language_info": {
   "codemirror_mode": {
    "name": "ipython",
    "version": 3
   },
   "file_extension": ".py",
   "mimetype": "text/x-python",
   "name": "python",
   "nbconvert_exporter": "python",
   "pygments_lexer": "ipython3",
   "version": "3.9.12"
  }
 },
 "nbformat": 4,
 "nbformat_minor": 5
}
