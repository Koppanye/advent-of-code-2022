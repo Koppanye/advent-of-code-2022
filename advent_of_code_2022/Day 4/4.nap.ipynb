{
 "cells": [
  {
   "cell_type": "code",
   "execution_count": 12,
   "id": "a827c045",
   "metadata": {},
   "outputs": [
    {
     "name": "stdout",
     "output_type": "stream",
     "text": [
      "462\n"
     ]
    }
   ],
   "source": [
    "#7. feladat:\n",
    "\n",
    "with open(\"7_feladat.txt\", \"r\") as f:\n",
    "    cnt = 0\n",
    "    l = f.read().split('\\n')\n",
    "    for item in l:\n",
    "        [u,v] = item.split(',')\n",
    "        [u1,u2] = u.split('-')\n",
    "        [v1,v2] = v.split('-')\n",
    "        \n",
    "        if (int(u1) <= int(v1)) & (int(u2) >= int(v2)):\n",
    "            cnt += 1\n",
    "        elif (int(v1) <= int(u1)) & (int(v2) >= int(u2)):\n",
    "            cnt += 1\n",
    "\n",
    "    print(cnt)\n"
   ]
  },
  {
   "cell_type": "code",
   "execution_count": 13,
   "id": "af9296cb",
   "metadata": {},
   "outputs": [
    {
     "name": "stdout",
     "output_type": "stream",
     "text": [
      "835\n"
     ]
    }
   ],
   "source": [
    "#8. feladat:\n",
    "\n",
    "with open(\"7_feladat.txt\", \"r\") as f:\n",
    "    cnt = 0\n",
    "    l = f.read().split('\\n')\n",
    "    for item in l:\n",
    "        [u,v] = item.split(',')\n",
    "        [u1,u2] = u.split('-')\n",
    "        [v1,v2] = v.split('-')\n",
    "        \n",
    "        if (int(u1) <= int(v1)) & (int(u2) >= int(v2)):\n",
    "            cnt += 1\n",
    "        elif (int(v1) <= int(u1)) & (int(v2) >= int(u1)):\n",
    "            cnt += 1\n",
    "        elif (int(v1) <= int(u2)) & (int(v2) >= int(u2)):\n",
    "            cnt += 1\n",
    "\n",
    "    print(cnt)"
   ]
  }
 ],
 "metadata": {
  "kernelspec": {
   "display_name": "Python 3 (ipykernel)",
   "language": "python",
   "name": "python3"
  },
  "language_info": {
   "codemirror_mode": {
    "name": "ipython",
    "version": 3
   },
   "file_extension": ".py",
   "mimetype": "text/x-python",
   "name": "python",
   "nbconvert_exporter": "python",
   "pygments_lexer": "ipython3",
   "version": "3.9.12"
  }
 },
 "nbformat": 4,
 "nbformat_minor": 5
}
