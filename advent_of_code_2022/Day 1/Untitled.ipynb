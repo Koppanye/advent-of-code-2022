{
 "cells": [
  {
   "cell_type": "code",
   "execution_count": 30,
   "id": "9ce2903b",
   "metadata": {},
   "outputs": [
    {
     "name": "stdout",
     "output_type": "stream",
     "text": [
      "74394\n"
     ]
    }
   ],
   "source": [
    "#1.feladat\n",
    "\n",
    "with open(\"1_feladat.txt\", \"r\") as f:\n",
    "    line = f.readline()\n",
    "    l = [0]\n",
    "    i = 0\n",
    "    while line:\n",
    "        if len(line) == 1:\n",
    "            i += 1\n",
    "            l.append(0)\n",
    "        else:\n",
    "            l[i] += int(line.strip())\n",
    "        line = f.readline()\n",
    "    #print(l)\n",
    "    print(max(l))"
   ]
  },
  {
   "cell_type": "code",
   "execution_count": 35,
   "id": "bd3e5d91",
   "metadata": {},
   "outputs": [
    {
     "name": "stdout",
     "output_type": "stream",
     "text": [
      "212836\n"
     ]
    }
   ],
   "source": [
    "#2.feladat\n",
    "k = sorted(l, key = lambda x: x, reverse = True)\n",
    "print(sum(k[:3]))\n"
   ]
  }
 ],
 "metadata": {
  "kernelspec": {
   "display_name": "Python 3 (ipykernel)",
   "language": "python",
   "name": "python3"
  },
  "language_info": {
   "codemirror_mode": {
    "name": "ipython",
    "version": 3
   },
   "file_extension": ".py",
   "mimetype": "text/x-python",
   "name": "python",
   "nbconvert_exporter": "python",
   "pygments_lexer": "ipython3",
   "version": "3.9.12"
  }
 },
 "nbformat": 4,
 "nbformat_minor": 5
}
