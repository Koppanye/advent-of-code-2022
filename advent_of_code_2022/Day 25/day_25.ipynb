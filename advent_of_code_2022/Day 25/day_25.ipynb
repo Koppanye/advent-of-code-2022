{
 "cells": [
  {
   "cell_type": "code",
   "execution_count": 14,
   "id": "fe5e4d55",
   "metadata": {},
   "outputs": [],
   "source": [
    "\n",
    "\n",
    "def snafu_value(t):\n",
    "    if t == '0':\n",
    "        return 0\n",
    "    elif t == '1':\n",
    "        return 1\n",
    "    elif t == '2':\n",
    "        return 2\n",
    "    elif t == '-':\n",
    "        return -1\n",
    "    elif t == '=':\n",
    "        return -2\n",
    "    \n",
    "    \n",
    "def snafu_to_dec(s):\n",
    "    s = s[::-1]\n",
    "    return sum([snafu_value(s[i])*(5**i) for i in range(len(s))])\n",
    "\n",
    "\n",
    "def dec_to_five(k):\n",
    "    if k <=2 and k >= -2:\n",
    "        return [k]\n",
    "    else:\n",
    "        remainder = k % 5 \n",
    "        if remainder == 4:\n",
    "            remainder = -1\n",
    "        elif remainder == 3:\n",
    "            remainder = -2\n",
    "        new_val = int((k-remainder) / 5)\n",
    "        \n",
    "        return dec_to_five(new_val) + [remainder]\n",
    "    \n",
    "def dec_to_snafu(k):\n",
    "    l = dec_to_five(k)\n",
    "    valasz = []\n",
    "    for item in l:\n",
    "        if item == -2:\n",
    "            valasz.append('=')\n",
    "        elif item == -1:\n",
    "            valasz.append('-')\n",
    "        else:\n",
    "            valasz.append(str(item))\n",
    "    return ''.join(valasz)\n"
   ]
  },
  {
   "cell_type": "code",
   "execution_count": 15,
   "id": "964cf1de",
   "metadata": {},
   "outputs": [
    {
     "data": {
      "text/plain": [
       "[2, -2, -1, 1, -2, 0]"
      ]
     },
     "execution_count": 15,
     "metadata": {},
     "output_type": "execute_result"
    }
   ],
   "source": [
    "dec_to_five(4890)"
   ]
  },
  {
   "cell_type": "code",
   "execution_count": 16,
   "id": "d14e5aec",
   "metadata": {},
   "outputs": [
    {
     "data": {
      "text/plain": [
       "'2=-1=0'"
      ]
     },
     "execution_count": 16,
     "metadata": {},
     "output_type": "execute_result"
    }
   ],
   "source": [
    "dec_to_snafu(4890)"
   ]
  },
  {
   "cell_type": "code",
   "execution_count": 4,
   "id": "167edb00",
   "metadata": {},
   "outputs": [
    {
     "data": {
      "text/plain": [
       "[1, 0, -2, 2]"
      ]
     },
     "execution_count": 4,
     "metadata": {},
     "output_type": "execute_result"
    }
   ],
   "source": [
    "dec_to_five(117)"
   ]
  },
  {
   "cell_type": "code",
   "execution_count": 19,
   "id": "6147418d",
   "metadata": {},
   "outputs": [
    {
     "name": "stdout",
     "output_type": "stream",
     "text": [
      "35798042807410\n",
      "2-20=01--0=0=0=2-120\n"
     ]
    }
   ],
   "source": [
    "#29. feladat:\n",
    "\n",
    "with open('day_25.txt', 'r') as f:\n",
    "    inpt = f.read().split('\\n')\n",
    "    v1 = sum([snafu_to_dec(line) for line in inpt])\n",
    "    print(v1)\n",
    "    v2 = dec_to_snafu(v1)\n",
    "    print(v2)"
   ]
  }
 ],
 "metadata": {
  "kernelspec": {
   "display_name": "Python 3 (ipykernel)",
   "language": "python",
   "name": "python3"
  },
  "language_info": {
   "codemirror_mode": {
    "name": "ipython",
    "version": 3
   },
   "file_extension": ".py",
   "mimetype": "text/x-python",
   "name": "python",
   "nbconvert_exporter": "python",
   "pygments_lexer": "ipython3",
   "version": "3.9.12"
  }
 },
 "nbformat": 4,
 "nbformat_minor": 5
}
