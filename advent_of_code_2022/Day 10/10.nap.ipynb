{
 "cells": [
  {
   "cell_type": "code",
   "execution_count": 48,
   "id": "57a0e667",
   "metadata": {},
   "outputs": [
    {
     "name": "stdout",
     "output_type": "stream",
     "text": [
      "14560\n"
     ]
    }
   ],
   "source": [
    "#19. feladat:\n",
    "\n",
    "with open('19_feladat.txt', 'r') as f:\n",
    "    lines = f.read().split('\\n')\n",
    "    X = 1\n",
    "    changes = []\n",
    "\n",
    "    for i in range(len(lines)):\n",
    "        order = lines[i].split(' ')\n",
    "        if order[0] == 'noop':\n",
    "            changes.append(0)\n",
    "\n",
    "        else:\n",
    "            changes.append(0)\n",
    "            changes.append(int(order[1]))\n",
    "\n",
    "\n",
    "    v20, v60, v100, v140, v180, v220 = 1 + sum(changes[:19]), 1 + sum(changes[:59]), 1 + sum(changes[:99]), 1 + sum(changes[:139]), 1 + sum(changes[:179]), 1 + sum(changes[:219])\n",
    "\n",
    "    print(v20 * 20 + v60 * 60 + v100 * 100 + v140 * 140 + v180 * 180 + v220 * 220)"
   ]
  },
  {
   "cell_type": "code",
   "execution_count": 60,
   "id": "75e24566",
   "metadata": {},
   "outputs": [
    {
     "name": "stdout",
     "output_type": "stream",
     "text": [
      "19\n"
     ]
    }
   ],
   "source": [
    "X_vals = [1 + sum(changes[:i-1]) for i in range(1,len(changes))]\n",
    "print(X_vals[18])"
   ]
  },
  {
   "cell_type": "code",
   "execution_count": 64,
   "id": "760ff321",
   "metadata": {},
   "outputs": [
    {
     "name": "stdout",
     "output_type": "stream",
     "text": [
      "####.#..#.###..#..#.####.###..#..#.####.\n",
      "#....#.#..#..#.#..#.#....#..#.#..#....#.\n",
      "###..##...#..#.####.###..#..#.#..#...#..\n",
      "#....#.#..###..#..#.#....###..#..#..#...\n",
      "#....#.#..#.#..#..#.#....#....#..#.#....\n",
      "####.#..#.#..#.#..#.####.#.....##..####.\n"
     ]
    }
   ],
   "source": [
    "#20. feladat:\n",
    "\n",
    "\n",
    "X_vals = []\n",
    "for i in range(6):\n",
    "    printing = ''\n",
    "    for j in range(40):\n",
    "        x_val = 1 + sum(changes[:i*40+j])\n",
    "        if j in [x_val-1, x_val, x_val + 1]:\n",
    "            printing += '#'\n",
    "        else:\n",
    "            printing += '.'\n",
    "    print(printing)\n",
    "        "
   ]
  }
 ],
 "metadata": {
  "kernelspec": {
   "display_name": "Python 3 (ipykernel)",
   "language": "python",
   "name": "python3"
  },
  "language_info": {
   "codemirror_mode": {
    "name": "ipython",
    "version": 3
   },
   "file_extension": ".py",
   "mimetype": "text/x-python",
   "name": "python",
   "nbconvert_exporter": "python",
   "pygments_lexer": "ipython3",
   "version": "3.9.12"
  }
 },
 "nbformat": 4,
 "nbformat_minor": 5
}
