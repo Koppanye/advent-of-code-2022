{
 "cells": [
  {
   "cell_type": "code",
   "execution_count": 291,
   "id": "a14f2482",
   "metadata": {},
   "outputs": [
    {
     "name": "stdout",
     "output_type": "stream",
     "text": [
      "e\n"
     ]
    }
   ],
   "source": [
    "l1 = [[[8],[2,[6,5,1]],1,[[3,0,8],7]],[[7,[1,3,3],[],7,0],[0,[1],10,1,5],[10,[7],[6,3],5,0],[[3,9,6,1,8],5,9,[3,3,10]],[7,[1,9,3,5,8],0,5]],[5,10,2,[7,[2,4,8,4],6],[[3,8,5,7,1],[9,8],[2,6,9,4],7,10]],[[[5],[4,1]]],[5]]\n",
    "\n",
    "l2 = [[[[8]],5,7]]\n",
    "print(list_compare(l1, l2))"
   ]
  },
  {
   "cell_type": "code",
   "execution_count": 302,
   "id": "dcd7b283",
   "metadata": {},
   "outputs": [],
   "source": [
    "def list_compare(l,k):\n",
    "    \n",
    "    if l == [] and k == []:\n",
    "        return 'f'\n",
    "    \n",
    "    elif l == []:\n",
    "        return 'f'\n",
    "    \n",
    "    elif k == []:\n",
    "        return 's'\n",
    "    \n",
    "    elif type(l[0]) == type(k[0]) and l[0] == k[0]:\n",
    "        return list_compare(l[1:], k[1:])\n",
    "    \n",
    "    elif type(l[0]) == list and type(k[0]) == list:\n",
    "        return list_compare(l[0], k[0])\n",
    "    \n",
    "    elif type(l[0]) == list and type(k[0]) == int:\n",
    "        k[0] = [k[0]]\n",
    "        return list_compare(l, k)\n",
    "    \n",
    "    elif type(l[0]) == int and type(k[0]) == list:\n",
    "        l[0] = [l[0]]\n",
    "        return list_compare(l, k)\n",
    "    \n",
    "    elif l < k:\n",
    "        return 'f'\n",
    "    \n",
    "    elif l > k:\n",
    "        return 's'\n",
    "    "
   ]
  },
  {
   "cell_type": "code",
   "execution_count": 227,
   "id": "fc79f84a",
   "metadata": {},
   "outputs": [],
   "source": [
    "def to_list(s):\n",
    "    new_s = s[1:-1]\n",
    "    \n",
    "    if new_s == '':\n",
    "        return []\n",
    "    \n",
    "    elif [_ for _ in new_s if _ == '['] == []:\n",
    "        v = new_s.split(',')\n",
    "        return [int(i) for i in v if i != '']\n",
    "    \n",
    "    else:\n",
    "        m = min([i for i in range(len(new_s)) if new_s[i] == '['])\n",
    "        ind = [1]\n",
    "        for i in new_s[m+1:]:\n",
    "            if i == '[':\n",
    "                ind.append(ind[-1] + 1)\n",
    "            elif i == ']':\n",
    "                ind.append(ind[-1] - 1)\n",
    "            else:\n",
    "                ind.append(ind[-1])\n",
    "        j = min([k for k in range(len(ind)) if ind[k] == 0])\n",
    "        \n",
    "        szo1 = new_s[m:][:j+1]\n",
    "        szo2 = new_s[:m] + new_s[m:][j+1:]\n",
    "        szo2 = szo2.replace(',,',',')\n",
    "        if szo2 != '':\n",
    "            if szo2[0] == ',':\n",
    "                szo2 = szo2[1:]\n",
    "            if szo2[-1] == ',':\n",
    "                szo2 = szo2[:-1]\n",
    "        szo2 = '[' + szo2 + ']'\n",
    "        \n",
    "        \n",
    "        vegso = to_list(szo2)\n",
    "        vegso.insert(int(m / 2), to_list(szo1))\n",
    "        \n",
    "        return vegso"
   ]
  },
  {
   "cell_type": "code",
   "execution_count": 305,
   "id": "19da3b42",
   "metadata": {
    "scrolled": true
   },
   "outputs": [
    {
     "name": "stdout",
     "output_type": "stream",
     "text": [
      "5605\n"
     ]
    }
   ],
   "source": [
    "#25. feladat\n",
    "\n",
    "with open('25_feladat.txt', 'r') as f:\n",
    "    lines = f.read().split('\\n')\n",
    "    good_list = []\n",
    "    for i in range(0,len(lines),3):\n",
    "        \n",
    "        s1 = lines[i]\n",
    "        l1 = to_list(s1)\n",
    "\n",
    "        s2 = lines[i+1]\n",
    "        l2 = to_list(s2)\n",
    "        \n",
    "        if list_compare(l1,l2) == 'f' or list_compare(l1,l2) == 'e':\n",
    "            good_list.append(int(i / 3) + 1)\n",
    "    print(sum(good_list))"
   ]
  },
  {
   "cell_type": "code",
   "execution_count": 330,
   "id": "7f8ff738",
   "metadata": {},
   "outputs": [
    {
     "name": "stdout",
     "output_type": "stream",
     "text": [
      "24969\n"
     ]
    }
   ],
   "source": [
    "# 26. feladat:\n",
    "\n",
    "\n",
    "from functools import cmp_to_key\n",
    "\n",
    "with open(\"25_feladat.txt\") as fin:\n",
    "    parts = fin.read().strip().replace(\"\\n\\n\", \"\\n\").split(\"\\n\")\n",
    "\n",
    "\n",
    "def compare(a, b):\n",
    "    if isinstance(a, list) and isinstance(b, int):\n",
    "        b = [b]\n",
    "\n",
    "    if isinstance(a, int) and isinstance(b, list):\n",
    "        a = [a]\n",
    "\n",
    "    if isinstance(a, int) and isinstance(b, int):\n",
    "        if a < b:\n",
    "            return 1\n",
    "        if a == b:\n",
    "            return 0\n",
    "        return -1\n",
    "\n",
    "    if isinstance(a, list) and isinstance(b, list):\n",
    "        i = 0\n",
    "        while i < len(a) and i < len(b):\n",
    "            x = compare(a[i], b[i])\n",
    "            if x == 1:\n",
    "                return 1\n",
    "            if x == -1:\n",
    "                return -1\n",
    "\n",
    "            i += 1\n",
    "\n",
    "        if i == len(a):\n",
    "            if len(a) == len(b):\n",
    "                return 0\n",
    "            return 1  # a ended first\n",
    "\n",
    "        # If i didn't hit the end of a, it hit the end of b first\n",
    "        #   This means that b is shorter, which is bad\n",
    "        return -1\n",
    "\n",
    "\n",
    "lists = list(map(eval, parts))\n",
    "\n",
    "lists.append([[2]])\n",
    "lists.append([[6]])\n",
    "#lists = sorted(lists, key=cmp_to_key(compare), reverse=True)\n",
    "\n",
    "small_numb = [0 for i in range(len(lists))]\n",
    "for i in range(len(lists)):\n",
    "    for j in range(len(lists)):\n",
    "        if compare(lists[j], lists[i]) == 1 and i != j:\n",
    "            small_numb[i] += 1\n",
    "            \n",
    "#print(small_numb)\n",
    "print((small_numb[-1] + 1)*(small_numb[-2] + 1))\n",
    "        \n",
    "\n",
    "\n"
   ]
  }
 ],
 "metadata": {
  "kernelspec": {
   "display_name": "Python 3 (ipykernel)",
   "language": "python",
   "name": "python3"
  },
  "language_info": {
   "codemirror_mode": {
    "name": "ipython",
    "version": 3
   },
   "file_extension": ".py",
   "mimetype": "text/x-python",
   "name": "python",
   "nbconvert_exporter": "python",
   "pygments_lexer": "ipython3",
   "version": "3.9.12"
  }
 },
 "nbformat": 4,
 "nbformat_minor": 5
}
