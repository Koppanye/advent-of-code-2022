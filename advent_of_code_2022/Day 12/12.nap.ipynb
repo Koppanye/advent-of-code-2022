{
 "cells": [
  {
   "cell_type": "code",
   "execution_count": 45,
   "id": "ecfb4bc2",
   "metadata": {},
   "outputs": [
    {
     "name": "stdout",
     "output_type": "stream",
     "text": [
      "361\n"
     ]
    }
   ],
   "source": [
    "#23. feladat:\n",
    "\n",
    "import networkx as nx\n",
    "char_list = 'abcdefghijklmnopqrstuvwxyz'\n",
    "def height(b):\n",
    "    if b == 'E':\n",
    "        return 26\n",
    "    elif b == 'S':\n",
    "        return 1\n",
    "    else:\n",
    "        return min([i for i in range(len(char_list)) if char_list[i] == b]) + 1\n",
    "\n",
    "D = nx.DiGraph()\n",
    "with open('23_feladat.txt', 'r') as f:\n",
    "    inpt = f.read().split('\\n')\n",
    "    t_meret = len(inpt[0])\n",
    "    \n",
    "    for i in range(len(inpt)):\n",
    "        for j in range(len(inpt[i])):\n",
    "            D.add_node(i*t_meret + j, hgt = height(inpt[i][j]))\n",
    "            \n",
    "            if inpt[i][j] == 'S':\n",
    "                start = i*t_meret + j\n",
    "            if inpt[i][j] == 'E':\n",
    "                end = i*t_meret + j\n",
    "                \n",
    "            if i > 0 and j > 0:\n",
    "                ind1 = i*t_meret + j\n",
    "                ind2 = i*t_meret + j - 1\n",
    "                ind3 = (i-1)*t_meret + j\n",
    "                \n",
    "                hgt1 = D.nodes[ind1]['hgt']\n",
    "                hgt2 = D.nodes[ind2]['hgt'] \n",
    "                hgt3 = D.nodes[ind3]['hgt']\n",
    "                \n",
    "                if hgt2 - hgt1 < 2:\n",
    "                    D.add_edge(ind1, ind2)\n",
    "                if hgt3 - hgt1 < 2:\n",
    "                    D.add_edge(ind1, ind3)\n",
    "                if hgt1 - hgt2 < 2:\n",
    "                    D.add_edge(ind2, ind1)\n",
    "                if hgt1 - hgt3 < 2:\n",
    "                    D.add_edge(ind3, ind1)\n",
    "                    \n",
    "            elif i == 0 and j > 0:\n",
    "                hgt1 = D.nodes[j]['hgt']\n",
    "                hgt2 = D.nodes[j-1]['hgt']\n",
    "                \n",
    "                if hgt2 - hgt1 < 2:\n",
    "                    D.add_edge(j, j-1)\n",
    "                if hgt1 - hgt2 < 2:\n",
    "                    D.add_edge(j-1, j)\n",
    "                \n",
    "            elif j == 0 and i > 0:\n",
    "                hgt1 = D.nodes[i*t_meret]['hgt']\n",
    "                hgt2 = D.nodes[(i-1)*t_meret]['hgt']\n",
    "                \n",
    "                if hgt2 - hgt1 < 2:\n",
    "                    D.add_edge(i*t_meret, (i-1)*t_meret)\n",
    "                if hgt1 - hgt2 < 2:\n",
    "                    D.add_edge((i-1)*t_meret, i*t_meret)\n",
    "            \n",
    "  \n",
    "print(len(nx.shortest_path(D, source = start, target = end))-1)\n"
   ]
  },
  {
   "cell_type": "code",
   "execution_count": 58,
   "id": "9eeb3a55",
   "metadata": {},
   "outputs": [
    {
     "name": "stdout",
     "output_type": "stream",
     "text": [
      "354\n"
     ]
    }
   ],
   "source": [
    "#24. feladat: \n",
    "\n",
    "trails = []\n",
    "sources = [v for v in D.nodes() if D.nodes[v]['hgt'] == 1]\n",
    "for v in sources:\n",
    "    try:\n",
    "        trails.append(len(nx.shortest_path(D, source = v, target = end)) - 1)\n",
    "\n",
    "    except nx.NetworkXNoPath as e:\n",
    "        pass\n",
    "        \n",
    "print(min(trails))"
   ]
  }
 ],
 "metadata": {
  "kernelspec": {
   "display_name": "Python 3 (ipykernel)",
   "language": "python",
   "name": "python3"
  },
  "language_info": {
   "codemirror_mode": {
    "name": "ipython",
    "version": 3
   },
   "file_extension": ".py",
   "mimetype": "text/x-python",
   "name": "python",
   "nbconvert_exporter": "python",
   "pygments_lexer": "ipython3",
   "version": "3.9.12"
  }
 },
 "nbformat": 4,
 "nbformat_minor": 5
}
