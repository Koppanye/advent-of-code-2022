{
 "cells": [
  {
   "cell_type": "code",
   "execution_count": 85,
   "id": "078161f7",
   "metadata": {},
   "outputs": [
    {
     "data": {
      "text/plain": [
       "5832528"
      ]
     },
     "execution_count": 85,
     "metadata": {},
     "output_type": "execute_result"
    }
   ],
   "source": [
    "#29. feladat:\n",
    "\n",
    "import numpy as np\n",
    "\n",
    "with open('29_feladat.txt', 'r') as f:\n",
    "    sensor_list = []\n",
    "    beacon_list = []\n",
    "    lines = f.read().split('\\n')\n",
    "    for line in lines:\n",
    "        newline = line.split(' ')\n",
    "        sensor_list.append([int(newline[2][2:-1]), int(newline[3][2:-1])])\n",
    "        beacon_list.append([int(newline[8][2:-1]), int(newline[9][2:])])\n",
    "    \n",
    "    max_x = max([v[0] for v in sensor_list] + [u[0] for u in beacon_list])\n",
    "    max_y = max([v[1] for v in sensor_list] + [u[1] for u in beacon_list])\n",
    "    min_x = min([v[0] for v in sensor_list] + [u[0] for u in beacon_list])\n",
    "    min_y = min([v[1] for v in sensor_list] + [u[1] for u in beacon_list])\n",
    "    \n",
    "def manhattan(x,y):\n",
    "    return abs(x[0]-y[0]) + abs(x[1]-y[1])\n",
    "\n",
    "sensor_radius = [manhattan(sensor_list[i], beacon_list[i]) for i in range(len(sensor_list))]\n",
    "\n",
    "\n",
    "left = min([sensor_list[i][0] - sensor_radius[i] for i in range(len(sensor_list))])\n",
    "right = max([sensor_list[i][0] + sensor_radius[i] for i in range(len(sensor_list))])\n",
    "\n",
    "def is_in_neighbourhood(p):\n",
    "    return min([manhattan(p,sensor_list[i])-sensor_radius[i] for i in range(len(sensor_list))]) <= 0\n",
    "\n",
    "cnt = len([[i,2000000] for i in range(left,right) if is_in_neighbourhood([i,2000000]) == True and [i,2000000] not in beacon_list])\n",
    "cnt\n"
   ]
  },
  {
   "cell_type": "code",
   "execution_count": 101,
   "id": "cb3925b3",
   "metadata": {},
   "outputs": [
    {
     "ename": "KeyboardInterrupt",
     "evalue": "",
     "output_type": "error",
     "traceback": [
      "\u001b[1;31m---------------------------------------------------------------------------\u001b[0m",
      "\u001b[1;31mKeyboardInterrupt\u001b[0m                         Traceback (most recent call last)",
      "Input \u001b[1;32mIn [101]\u001b[0m, in \u001b[0;36m<cell line: 7>\u001b[1;34m()\u001b[0m\n\u001b[0;32m      7\u001b[0m \u001b[38;5;28;01mwhile\u001b[39;00m \u001b[38;5;28mlen\u001b[39m(c\u001b[38;5;241m-\u001b[39ms) \u001b[38;5;241m==\u001b[39m \u001b[38;5;241m0\u001b[39m:\n\u001b[0;32m      8\u001b[0m     i \u001b[38;5;241m+\u001b[39m\u001b[38;5;241m=\u001b[39m \u001b[38;5;241m1\u001b[39m\n\u001b[1;32m----> 9\u001b[0m     s \u001b[38;5;241m=\u001b[39m {j \u001b[38;5;28;01mfor\u001b[39;00m j \u001b[38;5;129;01min\u001b[39;00m \u001b[38;5;28mrange\u001b[39m(\u001b[38;5;241m4000000\u001b[39m) \u001b[38;5;28;01mif\u001b[39;00m is_in_neighbourhood([i,j]) \u001b[38;5;241m==\u001b[39m \u001b[38;5;28;01mTrue\u001b[39;00m}\n\u001b[0;32m     10\u001b[0m \u001b[38;5;28mprint\u001b[39m(i,s)\n",
      "Input \u001b[1;32mIn [101]\u001b[0m, in \u001b[0;36m<setcomp>\u001b[1;34m(.0)\u001b[0m\n\u001b[0;32m      7\u001b[0m \u001b[38;5;28;01mwhile\u001b[39;00m \u001b[38;5;28mlen\u001b[39m(c\u001b[38;5;241m-\u001b[39ms) \u001b[38;5;241m==\u001b[39m \u001b[38;5;241m0\u001b[39m:\n\u001b[0;32m      8\u001b[0m     i \u001b[38;5;241m+\u001b[39m\u001b[38;5;241m=\u001b[39m \u001b[38;5;241m1\u001b[39m\n\u001b[1;32m----> 9\u001b[0m     s \u001b[38;5;241m=\u001b[39m {j \u001b[38;5;28;01mfor\u001b[39;00m j \u001b[38;5;129;01min\u001b[39;00m \u001b[38;5;28mrange\u001b[39m(\u001b[38;5;241m4000000\u001b[39m) \u001b[38;5;28;01mif\u001b[39;00m \u001b[43mis_in_neighbourhood\u001b[49m\u001b[43m(\u001b[49m\u001b[43m[\u001b[49m\u001b[43mi\u001b[49m\u001b[43m,\u001b[49m\u001b[43mj\u001b[49m\u001b[43m]\u001b[49m\u001b[43m)\u001b[49m \u001b[38;5;241m==\u001b[39m \u001b[38;5;28;01mTrue\u001b[39;00m}\n\u001b[0;32m     10\u001b[0m \u001b[38;5;28mprint\u001b[39m(i,s)\n",
      "Input \u001b[1;32mIn [85]\u001b[0m, in \u001b[0;36mis_in_neighbourhood\u001b[1;34m(p)\u001b[0m\n\u001b[0;32m     30\u001b[0m \u001b[38;5;28;01mdef\u001b[39;00m \u001b[38;5;21mis_in_neighbourhood\u001b[39m(p):\n\u001b[1;32m---> 31\u001b[0m     \u001b[38;5;28;01mreturn\u001b[39;00m \u001b[38;5;28mmin\u001b[39m([manhattan(p,sensor_list[i])\u001b[38;5;241m-\u001b[39msensor_radius[i] \u001b[38;5;28;01mfor\u001b[39;00m i \u001b[38;5;129;01min\u001b[39;00m \u001b[38;5;28mrange\u001b[39m(\u001b[38;5;28mlen\u001b[39m(sensor_list))]) \u001b[38;5;241m<\u001b[39m\u001b[38;5;241m=\u001b[39m \u001b[38;5;241m0\u001b[39m\n",
      "Input \u001b[1;32mIn [85]\u001b[0m, in \u001b[0;36m<listcomp>\u001b[1;34m(.0)\u001b[0m\n\u001b[0;32m     30\u001b[0m \u001b[38;5;28;01mdef\u001b[39;00m \u001b[38;5;21mis_in_neighbourhood\u001b[39m(p):\n\u001b[1;32m---> 31\u001b[0m     \u001b[38;5;28;01mreturn\u001b[39;00m \u001b[38;5;28mmin\u001b[39m([\u001b[43mmanhattan\u001b[49m\u001b[43m(\u001b[49m\u001b[43mp\u001b[49m\u001b[43m,\u001b[49m\u001b[43msensor_list\u001b[49m\u001b[43m[\u001b[49m\u001b[43mi\u001b[49m\u001b[43m]\u001b[49m\u001b[43m)\u001b[49m\u001b[38;5;241m-\u001b[39msensor_radius[i] \u001b[38;5;28;01mfor\u001b[39;00m i \u001b[38;5;129;01min\u001b[39;00m \u001b[38;5;28mrange\u001b[39m(\u001b[38;5;28mlen\u001b[39m(sensor_list))]) \u001b[38;5;241m<\u001b[39m\u001b[38;5;241m=\u001b[39m \u001b[38;5;241m0\u001b[39m\n",
      "Input \u001b[1;32mIn [85]\u001b[0m, in \u001b[0;36mmanhattan\u001b[1;34m(x, y)\u001b[0m\n\u001b[0;32m     19\u001b[0m \u001b[38;5;28;01mdef\u001b[39;00m \u001b[38;5;21mmanhattan\u001b[39m(x,y):\n\u001b[1;32m---> 20\u001b[0m     \u001b[38;5;28;01mreturn\u001b[39;00m \u001b[38;5;28mabs\u001b[39m(x[\u001b[38;5;241m0\u001b[39m]\u001b[38;5;241m-\u001b[39my[\u001b[38;5;241m0\u001b[39m]) \u001b[38;5;241m+\u001b[39m \u001b[38;5;28mabs\u001b[39m(x[\u001b[38;5;241m1\u001b[39m]\u001b[38;5;241m-\u001b[39m\u001b[43my\u001b[49m\u001b[43m[\u001b[49m\u001b[38;5;241;43m1\u001b[39;49m\u001b[43m]\u001b[49m)\n",
      "\u001b[1;31mKeyboardInterrupt\u001b[0m: "
     ]
    }
   ],
   "source": [
    "#30. feladat:\n",
    "\n",
    "i = 0\n",
    "c = {k for k in range(4000000)}\n",
    "s = {j for j in range(4000000) if is_in_neighbourhood([i,j]) == True}\n",
    "\n",
    "while len(c-s) == 0:\n",
    "    i += 1\n",
    "    s = {j for j in range(4000000) if is_in_neighbourhood([i,j]) == True}\n",
    "print(i,s)"
   ]
  },
  {
   "cell_type": "code",
   "execution_count": 126,
   "id": "fb166d9e",
   "metadata": {},
   "outputs": [
    {
     "name": "stdout",
     "output_type": "stream",
     "text": [
      "set()\n",
      "set()\n",
      "set()\n",
      "set()\n",
      "set()\n",
      "set()\n",
      "set()\n"
     ]
    },
    {
     "ename": "KeyboardInterrupt",
     "evalue": "",
     "output_type": "error",
     "traceback": [
      "\u001b[1;31m---------------------------------------------------------------------------\u001b[0m",
      "\u001b[1;31mKeyboardInterrupt\u001b[0m                         Traceback (most recent call last)",
      "Input \u001b[1;32mIn [126]\u001b[0m, in \u001b[0;36m<cell line: 1>\u001b[1;34m()\u001b[0m\n\u001b[0;32m      2\u001b[0m s \u001b[38;5;241m=\u001b[39m {i \u001b[38;5;28;01mfor\u001b[39;00m i \u001b[38;5;129;01min\u001b[39;00m \u001b[38;5;28mrange\u001b[39m(\u001b[38;5;241m4000000\u001b[39m)} \n\u001b[0;32m      3\u001b[0m \u001b[38;5;28;01mfor\u001b[39;00m j \u001b[38;5;129;01min\u001b[39;00m \u001b[38;5;28mrange\u001b[39m(\u001b[38;5;28mlen\u001b[39m(sensor_list)):\n\u001b[1;32m----> 4\u001b[0m     s \u001b[38;5;241m-\u001b[39m\u001b[38;5;241m=\u001b[39m \u001b[38;5;28mset\u001b[39m([k \u001b[38;5;28;01mfor\u001b[39;00m k \u001b[38;5;129;01min\u001b[39;00m \u001b[38;5;28mrange\u001b[39m(sensor_list[j][\u001b[38;5;241m0\u001b[39m] \u001b[38;5;241m-\u001b[39m sensor_radius[j] \u001b[38;5;241m+\u001b[39m \u001b[38;5;28mabs\u001b[39m(sensor_list[j][\u001b[38;5;241m1\u001b[39m]\u001b[38;5;241m-\u001b[39mi),sensor_list[j][\u001b[38;5;241m0\u001b[39m] \u001b[38;5;241m+\u001b[39m sensor_radius[j] \u001b[38;5;241m-\u001b[39m \u001b[38;5;28mabs\u001b[39m(sensor_list[j][\u001b[38;5;241m1\u001b[39m]\u001b[38;5;241m-\u001b[39mi) \u001b[38;5;241m+\u001b[39m \u001b[38;5;241m1\u001b[39m)])\n\u001b[0;32m      5\u001b[0m \u001b[38;5;28mprint\u001b[39m(s)\n",
      "\u001b[1;31mKeyboardInterrupt\u001b[0m: "
     ]
    }
   ],
   "source": [
    "for i in range(4000000):\n",
    "    s = {i for i in range(4000000)} \n",
    "    for j in range(len(sensor_list)):\n",
    "        s -= set([k for k in range(sensor_list[j][0] - sensor_radius[j] + abs(sensor_list[j][1]-i),sensor_list[j][0] + sensor_radius[j] - abs(sensor_list[j][1]-i) + 1)])\n",
    "    print(s)\n"
   ]
  },
  {
   "cell_type": "code",
   "execution_count": 130,
   "id": "232b835b",
   "metadata": {},
   "outputs": [
    {
     "name": "stdout",
     "output_type": "stream",
     "text": [
      "13360899249595\n"
     ]
    }
   ],
   "source": [
    "data = open(\"29_feladat.txt\").read()\n",
    "sensors = (\n",
    "    (\n",
    "        int(line.split(\" \")[2].split(\"=\")[1].strip(\",\")),\n",
    "        int(line.split(\" \")[3].split(\"=\")[1].strip(\":\")),\n",
    "        int(line.split(\" \")[8].split(\"=\")[1].strip(\",\")),\n",
    "        int(line.split(\" \")[9].split(\"=\")[1].strip(\",\")),\n",
    "    )\n",
    "    for line in data.split(\"\\n\")\n",
    ")\n",
    "sensor_dist = ((x, y, (abs(x - xb) + abs(y - yb))) for x, y, xb, yb in sensors)\n",
    "\n",
    "squares = []\n",
    "for x, y, d in sensor_dist:\n",
    "    rx = x + d\n",
    "    lx = x - d\n",
    "    ru = rx - y\n",
    "    rv = rx + y\n",
    "    lu = lx - y\n",
    "    lv = lx + y\n",
    "    squares.append((ru, rv, lu, lv))\n",
    "\n",
    "u_vals = set(ru for ru, rv, lu, rv in squares) | set(lu for ru, rv, lu, rv in squares)\n",
    "\n",
    "to_add = set()\n",
    "\n",
    "for u_val in u_vals:\n",
    "    to_add.add(u_val + 1)\n",
    "    to_add.add(u_val - 1)\n",
    "\n",
    "u_vals |= to_add\n",
    "\n",
    "u_vals = sorted(u_vals)\n",
    "\n",
    "u_ranges = {key: [] for key in u_vals}\n",
    "for index, (ru, rv, lu, lv) in enumerate(squares):\n",
    "    for u_k in u_vals:\n",
    "        if ru > lu:\n",
    "            if lu <= u_k <= ru:\n",
    "                u_ranges[u_k].append(index)\n",
    "        else:\n",
    "            if ru <= u_k <= ru:\n",
    "                u_ranges[u_k].append(index)\n",
    "\n",
    "v_ranges = {}\n",
    "\n",
    "for u, sqs in u_ranges.items():\n",
    "    ranges = []\n",
    "    for sq in sqs:\n",
    "        ru, rv, lu, lv = squares[sq]\n",
    "        if rv > lv:\n",
    "            rng = [lv, rv]\n",
    "        else:\n",
    "            rng = [rv, lv]\n",
    "        ranges.append(rng)\n",
    "    ranges.sort()\n",
    "    stack = []\n",
    "    if len(ranges) > 0:\n",
    "        stack.append(ranges[0])\n",
    "        for r in ranges[1:]:\n",
    "            if stack[-1][0] <= r[0] <= stack[-1][1]:\n",
    "                stack[-1][1] = max(stack[-1][1], r[1])\n",
    "            else:\n",
    "                stack.append(r)\n",
    "    v_ranges[u] = stack\n",
    "\n",
    "for u, v_range in v_ranges.items():\n",
    "    if len(v_range) == 2:\n",
    "        v = v_range[0][1] + 1\n",
    "        x = int(u / 2 + v / 2)\n",
    "        y = int(v / 2 - u / 2)\n",
    "        print(x * 4000000 + y)\n",
    "        break\n"
   ]
  }
 ],
 "metadata": {
  "kernelspec": {
   "display_name": "Python 3 (ipykernel)",
   "language": "python",
   "name": "python3"
  },
  "language_info": {
   "codemirror_mode": {
    "name": "ipython",
    "version": 3
   },
   "file_extension": ".py",
   "mimetype": "text/x-python",
   "name": "python",
   "nbconvert_exporter": "python",
   "pygments_lexer": "ipython3",
   "version": "3.9.12"
  }
 },
 "nbformat": 4,
 "nbformat_minor": 5
}
