{
 "cells": [
  {
   "cell_type": "code",
   "execution_count": 153,
   "id": "8a98b354",
   "metadata": {},
   "outputs": [
    {
     "name": "stdout",
     "output_type": "stream",
     "text": [
      "592\n"
     ]
    }
   ],
   "source": [
    "#27. feladat\n",
    "\n",
    "import numpy as np\n",
    "\n",
    "with open('27_feladat.txt', 'r') as f:\n",
    "    rocks = f.read().split('\\n')\n",
    "    grid = np.zeros_like(np.arange(600*200).reshape(200,600))\n",
    "    for r in rocks:\n",
    "        r = r.split(' -> ')\n",
    "        #print(r)\n",
    "        for i in range(len(r)-1):\n",
    "            i1 = min(int(r[i].split(',')[1]), int(r[i+1].split(',')[1]))\n",
    "            i2 = max(int(r[i].split(',')[1]), int(r[i+1].split(',')[1]))\n",
    "            \n",
    "            j1 = min(int(r[i].split(',')[0]), int(r[i+1].split(',')[0]))\n",
    "            j2 = max(int(r[i].split(',')[0]), int(r[i+1].split(',')[0]))\n",
    "            #print(i1, i2, j1, j2)\n",
    "\n",
    "            grid[i1:i2+1,j1:j2+1] = 1\n",
    "            \n",
    "def one_step(i,j):\n",
    "    if grid[i+1,j] == 0:\n",
    "        return [i+1,j]\n",
    "    \n",
    "    elif grid[i+1, j-1] == 0:\n",
    "        return [i+1, j-1]\n",
    "    \n",
    "    elif grid[i+1, j+1] == 0:\n",
    "        return[i+1, j+1]\n",
    "    else:\n",
    "        return [i,j]\n",
    "    \n",
    "\n",
    "vege = False\n",
    "cnt = 0\n",
    "while vege == False:\n",
    "    [i,j] = [0,500]\n",
    "    stop = False\n",
    "    while stop == False and i < 199:\n",
    "        [old_i, old_j] = [i,j] \n",
    "        [i,j] = one_step(i,j)\n",
    "        if [old_i, old_j] == [i,j]:\n",
    "            stop = True\n",
    "            cnt += 1\n",
    "    \n",
    "    if i == 199:\n",
    "        vege = True\n",
    "    else:\n",
    "        grid[i,j] = 1\n",
    "        \n",
    "print(cnt)"
   ]
  },
  {
   "cell_type": "code",
   "execution_count": 187,
   "id": "6ab94a29",
   "metadata": {},
   "outputs": [
    {
     "name": "stdout",
     "output_type": "stream",
     "text": [
      "30367\n"
     ]
    }
   ],
   "source": [
    "#28. feladat:\n",
    "\n",
    "with open('27_feladat.txt', 'r') as f:\n",
    "    rocks = f.read().split('\\n')\n",
    "    grid = np.zeros_like(np.arange(700*200).reshape(200,700))\n",
    "    for r in rocks:\n",
    "        r = r.split(' -> ')\n",
    "        #print(r)\n",
    "        for i in range(len(r)-1):\n",
    "            i1 = min(int(r[i].split(',')[1]), int(r[i+1].split(',')[1]))\n",
    "            i2 = max(int(r[i].split(',')[1]), int(r[i+1].split(',')[1]))\n",
    "            \n",
    "            j1 = min(int(r[i].split(',')[0]), int(r[i+1].split(',')[0]))\n",
    "            j2 = max(int(r[i].split(',')[0]), int(r[i+1].split(',')[0]))\n",
    "            #print(i1, i2, j1, j2)\n",
    "\n",
    "            grid[i1:i2+1,j1:j2+1] = 1\n",
    "\n",
    "y = max(np.where(grid != 0)[0])\n",
    "\n",
    "grid = grid[:179,:]\n",
    "grid[178,:] += 1\n",
    "\n",
    "vege = False\n",
    "cnt = 0\n",
    "while vege == False:\n",
    "    [i,j] = [0,500]\n",
    "    stop = False\n",
    "    while stop == False:\n",
    "        [old_i, old_j] = [i,j] \n",
    "        [i,j] = one_step(i,j)\n",
    "        if [old_i, old_j] == [i,j]:\n",
    "            stop = True\n",
    "            cnt += 1\n",
    "        if [i,j] == [0,500]:\n",
    "            vege = True\n",
    "    grid[i,j] = 1\n",
    "print(cnt)"
   ]
  }
 ],
 "metadata": {
  "kernelspec": {
   "display_name": "Python 3 (ipykernel)",
   "language": "python",
   "name": "python3"
  },
  "language_info": {
   "codemirror_mode": {
    "name": "ipython",
    "version": 3
   },
   "file_extension": ".py",
   "mimetype": "text/x-python",
   "name": "python",
   "nbconvert_exporter": "python",
   "pygments_lexer": "ipython3",
   "version": "3.9.12"
  }
 },
 "nbformat": 4,
 "nbformat_minor": 5
}
