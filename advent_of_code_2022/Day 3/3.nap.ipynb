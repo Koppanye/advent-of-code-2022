{
 "cells": [
  {
   "cell_type": "code",
   "execution_count": 46,
   "id": "5aa65116",
   "metadata": {},
   "outputs": [
    {
     "name": "stdout",
     "output_type": "stream",
     "text": [
      "8252\n"
     ]
    }
   ],
   "source": [
    "#5. feladat:\n",
    "\n",
    "def myweight(c):\n",
    "    szo = 'abcdefghijklmnopqrstuvwxyz'\n",
    "    if c.islower():\n",
    "        return max([i for i in range(len(szo)) if szo[i] == c]) + 1\n",
    "    else:\n",
    "        return max([i for i in range(len(szo)) if szo[i] == c.lower()]) + 27\n",
    "\n",
    "with open(\"5_feladat.txt\", \"r\") as f:\n",
    "    l = f.read().strip().split('\\n')\n",
    "    common = []\n",
    "    for line in l:\n",
    "        k = int(len(line) / 2)\n",
    "\n",
    "        l1 = set(line[:k])\n",
    "        l2 = set(line[k:])\n",
    "        common.append(l1 & l2)\n",
    "\n",
    "    print(sum([myweight(list(i)[0]) for i in common]))\n"
   ]
  },
  {
   "cell_type": "code",
   "execution_count": 57,
   "id": "4bec6edc",
   "metadata": {},
   "outputs": [
    {
     "name": "stdout",
     "output_type": "stream",
     "text": [
      "['N', 'c', 'g', 'L', 'S', 'C', 'P', 'Z', 'q', 'z', 'z', 'h', 'h', 'C', 'r', 'D', 'h', 'W', 't', 'N', 'T', 'T', 'w', 'T', 'L', 'C', 'J', 's', 's', 'H', 'Z', 'C', 'f', 'b', 'g', 'r', 'G', 'p', 'S', 'L', 'r', 's', 'L', 'D', 'q', 'c', 'Q', 'z', 'T', 't', 'C', 'G', 'h', 'W', 'p', 'D', 'n', 'v', 'p', 'M', 'V', 'G', 'N', 'z', 'P', 'J', 'J', 'L', 'W', 'b', 'q', 'S', 'D', 'n', 'D', 'L', 'R', 'N', 'j', 'R', 's', 'Z', 'v', 't', 'P', 'P', 'h', 'F', 'H', 'L', 'd', 'l', 'Q', 'R', 'h', 'v', 'l', 'J', 'J', 'g']\n",
      "2828\n"
     ]
    }
   ],
   "source": [
    "#6. feladat:\n",
    "\n",
    "common2 = []\n",
    "for i in range(0,len(l),3):\n",
    "    s1, s2, s3 = set(l[i]), set(l[i+1]), set(l[i+2])\n",
    "    common2.append(list(s1 & s2 & s3)[0])\n",
    "print(common2)\n",
    "print(sum([myweight(i) for i in common2]))"
   ]
  }
 ],
 "metadata": {
  "kernelspec": {
   "display_name": "Python 3 (ipykernel)",
   "language": "python",
   "name": "python3"
  },
  "language_info": {
   "codemirror_mode": {
    "name": "ipython",
    "version": 3
   },
   "file_extension": ".py",
   "mimetype": "text/x-python",
   "name": "python",
   "nbconvert_exporter": "python",
   "pygments_lexer": "ipython3",
   "version": "3.9.12"
  }
 },
 "nbformat": 4,
 "nbformat_minor": 5
}
