{
 "cells": [
  {
   "cell_type": "code",
   "execution_count": 37,
   "id": "e12b1b7c",
   "metadata": {},
   "outputs": [
    {
     "name": "stdout",
     "output_type": "stream",
     "text": [
      "19559\n"
     ]
    }
   ],
   "source": [
    "#39. feladat:\n",
    "\n",
    "with open('day_20.txt', 'r') as f:\n",
    "    lines = f.read().split('\\n')\n",
    "    items = [[int(lines[i]), i] for i in range(len(lines))]\n",
    "    const = len(items)\n",
    "    \n",
    "    sorrend = items.copy()\n",
    "    \n",
    "    for i in range(const):\n",
    "\n",
    "        current_value = items[i][0]\n",
    "        current_index = sorrend.index(items[i])\n",
    "        new_ind = (current_index + current_value) % (const-1)\n",
    "\n",
    "        sorrend.remove(items[i])\n",
    "        sorrend.insert(new_ind, items[i])\n",
    "    \n",
    "    zero_ind = [v[0] for v in sorrend].index(0)\n",
    "    ind_1, ind_2, ind_3 = (zero_ind + 1000) % const, (zero_ind + 2000) % const, (zero_ind + 3000) % const\n",
    "\n",
    "    print(sorrend[ind_1][0] + sorrend[ind_2][0] + sorrend[ind_3][0])"
   ]
  },
  {
   "cell_type": "code",
   "execution_count": 56,
   "id": "2593023c",
   "metadata": {},
   "outputs": [],
   "source": [
    "def mix(l):\n",
    "    \n",
    "    for i in range(const):\n",
    "\n",
    "        current_value = items[i][0]\n",
    "        current_index = l.index(items[i])\n",
    "        new_ind = (current_index + current_value) % (const-1)\n",
    "\n",
    "        l.remove(items[i])\n",
    "        l.insert(new_ind, items[i])\n",
    "    return l"
   ]
  },
  {
   "cell_type": "code",
   "execution_count": 58,
   "id": "9785c408",
   "metadata": {},
   "outputs": [
    {
     "name": "stdout",
     "output_type": "stream",
     "text": [
      "912226207972\n"
     ]
    }
   ],
   "source": [
    "#40. feladat\n",
    "\n",
    "with open('day_20.txt', 'r') as f:\n",
    "    lines = f.read().split('\\n')\n",
    "    items = [[int(lines[i]) * 811589153, i] for i in range(len(lines))]\n",
    "    const = len(items)\n",
    "    \n",
    "    sorrend = items.copy()\n",
    "    for i in range(10):\n",
    "        new_sorrend = sorrend.copy()\n",
    "        sorrend = mix(new_sorrend)\n",
    "        #print(sorrend)\n",
    "    zero_ind = [v[0] for v in sorrend].index(0)\n",
    "    ind_1, ind_2, ind_3 = (zero_ind + 1000) % const, (zero_ind + 2000) % const, (zero_ind + 3000) % const\n",
    "\n",
    "    print((sorrend[ind_1][0] + sorrend[ind_2][0] + sorrend[ind_3][0]))"
   ]
  }
 ],
 "metadata": {
  "kernelspec": {
   "display_name": "Python 3 (ipykernel)",
   "language": "python",
   "name": "python3"
  },
  "language_info": {
   "codemirror_mode": {
    "name": "ipython",
    "version": 3
   },
   "file_extension": ".py",
   "mimetype": "text/x-python",
   "name": "python",
   "nbconvert_exporter": "python",
   "pygments_lexer": "ipython3",
   "version": "3.9.12"
  }
 },
 "nbformat": 4,
 "nbformat_minor": 5
}
