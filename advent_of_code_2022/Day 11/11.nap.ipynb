{
 "cells": [
  {
   "cell_type": "code",
   "execution_count": 1,
   "id": "e33481ce",
   "metadata": {
    "scrolled": true
   },
   "outputs": [],
   "source": [
    "# 21. feladat:\n",
    "\n",
    "monkeys = {}\n",
    "\n",
    "with open('21_feladat.txt', 'r') as f:\n",
    "    inpt = f.read().split('\\n')\n",
    "    \n",
    "    for i in range(0, len(inpt), 7):\n",
    "        m_ind = int(i / 7)\n",
    "        monkeys[m_ind] = {'inspected': 0}\n",
    "        \n",
    "        items = inpt[i+1].split(':')[1].split(', ')\n",
    "        items = [int(v) for v in items]\n",
    "        monkeys[m_ind]['items'] = items\n",
    "        \n",
    "        opr = inpt[i+2].split('=')[1].split(' ')[2:]\n",
    "        monkeys[m_ind]['oper'] = opr\n",
    "        \n",
    "        div_test = int(inpt[i+3].split(' ')[-1])\n",
    "        monkeys[m_ind]['div_test'] = div_test\n",
    "        \n",
    "        if_yes = int(inpt[i+4].split(' ')[-1])\n",
    "        monkeys[m_ind]['if_yes'] = if_yes\n",
    "        \n",
    "        if_no = int(inpt[i+5].split(' ')[-1])\n",
    "        monkeys[m_ind]['if_no'] = if_no\n",
    "        \n",
    "print(monkeys)\n",
    "print(len(list(monkeys.keys())))\n"
   ]
  },
  {
   "cell_type": "code",
   "execution_count": 2,
   "id": "5a1dc273",
   "metadata": {},
   "outputs": [],
   "source": [
    "def monkey_round(m):\n",
    "    for i in range(len(list(m.keys()))):\n",
    "        if len(m[i]['items']) == 0:\n",
    "            pass\n",
    "        else:\n",
    "            m[i]['inspected'] += len(m[i]['items'])\n",
    "            for item in m[i]['items']:\n",
    "            \n",
    "                if m[i]['oper'][1] == 'old' and m[i]['oper'][0] == '*':\n",
    "                    new_val = item * item\n",
    "                elif m[i]['oper'][1] == 'old' and m[i]['oper'][0] == '+':\n",
    "                    new_val = item + item\n",
    "                elif m[i]['oper'][0] == '+':\n",
    "                    new_val = item + int(m[i]['oper'][1])\n",
    "                elif m[i]['oper'][0] == '*':\n",
    "                    new_val = item * int(m[i]['oper'][1])\n",
    "                \n",
    "                new_val = int(new_val / 3)\n",
    "            \n",
    "                div_test = m[i]['div_test']\n",
    "                if new_val % div_test == 0:\n",
    "                    new_ind = m[i]['if_yes']\n",
    "                    m[new_ind]['items'].append(new_val)\n",
    "                else:\n",
    "                    new_ind = m[i]['if_no']\n",
    "                    m[new_ind]['items'].append(new_val)\n",
    "            \n",
    "                m[i]['items'] = []\n",
    "        \n",
    "    return m\n",
    "  "
   ]
  },
  {
   "cell_type": "code",
   "execution_count": 3,
   "id": "acdf3e6e",
   "metadata": {},
   "outputs": [
    {
     "data": {
      "text/plain": [
       "120056"
      ]
     },
     "execution_count": 3,
     "metadata": {},
     "output_type": "execute_result"
    }
   ],
   "source": [
    "def first_task(m):\n",
    "    for i in range(20):\n",
    "        m = monkey_round(m)\n",
    "    l = sorted([m[i]['inspected'] for i in range(len(list(m.keys())))])\n",
    "    return l[-1] * l[-2]\n",
    "\n",
    "first_task(monkeys)"
   ]
  },
  {
   "cell_type": "code",
   "execution_count": 31,
   "id": "ce0a29ea",
   "metadata": {},
   "outputs": [],
   "source": [
    "#22. feladat:\n",
    "\n",
    "divisors = [2, 3, 5, 7, 11, 13, 17, 19, 23]\n",
    "\n",
    "def monkey_round_worry(m):\n",
    "    for i in range(len(list(m.keys()))):\n",
    "        if len(m[i]['items']) == 0:\n",
    "            pass\n",
    "        else:\n",
    "            m[i]['inspected'] += len(m[i]['items'])\n",
    "            for item in m[i]['items']:\n",
    "            \n",
    "                if m[i]['oper'][1] == 'old' and m[i]['oper'][0] == '*':\n",
    "                    new_val = [(item[i] * item[i]) % divisors[i] for i in range(9)]\n",
    "                    \n",
    "                elif m[i]['oper'][1] == 'old' and m[i]['oper'][0] == '+':\n",
    "                    new_val = [(2*item[k]) % divisors[k] for k in range(9)]\n",
    "                    \n",
    "                elif m[i]['oper'][0] == '+':\n",
    "                    new_val = [(item[j] + int(m[i]['oper'][1])) % divisors[j] for j in range(9)]\n",
    "                    \n",
    "                elif m[i]['oper'][0] == '*':\n",
    "                    new_val = [(item[j] * int(m[i]['oper'][1])) % divisors[j] for j in range(9)]\n",
    "                    \n",
    "            \n",
    "                div_test = m[i]['div_test']\n",
    "                div_ind = min([j for j in range(9) if divisors[j] == div_test])\n",
    "                \n",
    "                if new_val[div_ind] == 0:\n",
    "                    new_ind = m[i]['if_yes']\n",
    "                    m[new_ind]['items'].append(new_val)\n",
    "                else:\n",
    "                    new_ind = m[i]['if_no']\n",
    "                    m[new_ind]['items'].append(new_val)\n",
    "            \n",
    "                m[i]['items'] = []\n",
    "        \n",
    "    return m"
   ]
  },
  {
   "cell_type": "code",
   "execution_count": 44,
   "id": "160c7b1a",
   "metadata": {},
   "outputs": [
    {
     "name": "stdout",
     "output_type": "stream",
     "text": [
      "21816744824\n"
     ]
    }
   ],
   "source": [
    "divisors = [2,3,5,7,11,13,17,19,23]\n",
    "monkeys = {}\n",
    "\n",
    "with open('21_feladat.txt', 'r') as f:\n",
    "    inpt = f.read().split('\\n')\n",
    "    \n",
    "    for i in range(0, len(inpt), 7):\n",
    "        m_ind = int(i / 7)\n",
    "        monkeys[m_ind] = {'inspected': 0}\n",
    "        \n",
    "        items = inpt[i+1].split(':')[1].split(', ')\n",
    "        items = [[int(v) % d for d in divisors] for v in items]\n",
    "        monkeys[m_ind]['items'] = items\n",
    "        \n",
    "        opr = inpt[i+2].split('=')[1].split(' ')[2:]\n",
    "        monkeys[m_ind]['oper'] = opr\n",
    "        \n",
    "        div_test = int(inpt[i+3].split(' ')[-1])\n",
    "        monkeys[m_ind]['div_test'] = div_test\n",
    "        \n",
    "        if_yes = int(inpt[i+4].split(' ')[-1])\n",
    "        monkeys[m_ind]['if_yes'] = if_yes\n",
    "        \n",
    "        if_no = int(inpt[i+5].split(' ')[-1])\n",
    "        monkeys[m_ind]['if_no'] = if_no\n",
    "        \n",
    "def sec_task(m):\n",
    "    for i in range(10000):\n",
    "        m = monkey_round_worry(m)\n",
    "    l = sorted([m[i]['inspected'] for i in range(len(list(m.keys())))])\n",
    "    return l\n",
    "\n",
    "e1, e2 = sec_task(monkeys)[-2:]\n",
    "print(e1 * e2)\n"
   ]
  }
 ],
 "metadata": {
  "kernelspec": {
   "display_name": "Python 3 (ipykernel)",
   "language": "python",
   "name": "python3"
  },
  "language_info": {
   "codemirror_mode": {
    "name": "ipython",
    "version": 3
   },
   "file_extension": ".py",
   "mimetype": "text/x-python",
   "name": "python",
   "nbconvert_exporter": "python",
   "pygments_lexer": "ipython3",
   "version": "3.9.12"
  }
 },
 "nbformat": 4,
 "nbformat_minor": 5
}
