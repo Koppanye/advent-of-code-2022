{
 "cells": [
  {
   "cell_type": "code",
   "execution_count": 112,
   "id": "a984a8e3",
   "metadata": {},
   "outputs": [
    {
     "name": "stdout",
     "output_type": "stream",
     "text": [
      "LBLVVTVLP\n"
     ]
    }
   ],
   "source": [
    "#5. feladat:\n",
    "import numpy as np\n",
    "\n",
    "c = 9\n",
    "ind = range(1,36,4)\n",
    "\n",
    "with open(\"9_feladat.txt\", \"r\") as f:\n",
    "    lines = []\n",
    "    for i in range(8):\n",
    "        line = f.readline().strip('\\n')\n",
    "        for j in ind:\n",
    "            lines.append(line[j])\n",
    "    newl = np.array(lines).reshape(-1,9)\n",
    "\n",
    "    boxes = []\n",
    "    for i in range(9):\n",
    "        actline = list(newl[:,i])[::-1]\n",
    "        actline = [i for i in actline if i != ' ']\n",
    "        boxes.append(actline)\n",
    "\n",
    "    \n",
    "   \n",
    "    many = []\n",
    "    where_from = []\n",
    "    where_to = []\n",
    "    \n",
    "    line = f.readline()\n",
    "    line = f.readline()\n",
    "    line = f.readline().strip().split(' ')\n",
    "    \n",
    "    while line != ['']:\n",
    "        many.append(int(line[1]))\n",
    "        where_from.append(int(line[3])-1)\n",
    "        where_to.append(int(line[5])-1)\n",
    "        line = f.readline().strip().split(' ')\n",
    "    \n",
    "    \n",
    "    for i in range(len(many)):\n",
    "        for j in range(many[i]):\n",
    "            n = boxes[where_from[i]][-1]\n",
    "            boxes[where_to[i]].append(n)\n",
    "            boxes[where_from[i]].pop()\n",
    "            \n",
    "    valasz = []\n",
    "    for i in range(len(boxes)):\n",
    "        valasz.append(boxes[i][-1])\n",
    "    print(''.join(valasz))"
   ]
  },
  {
   "cell_type": "code",
   "execution_count": 118,
   "id": "483168ba",
   "metadata": {},
   "outputs": [
    {
     "name": "stdout",
     "output_type": "stream",
     "text": [
      "TPFFBDRJD\n"
     ]
    }
   ],
   "source": [
    "#6. feladat:\n",
    "import numpy as np\n",
    "\n",
    "c = 9\n",
    "ind = range(1,36,4)\n",
    "\n",
    "with open(\"9_feladat.txt\", \"r\") as f:\n",
    "    lines = []\n",
    "    for i in range(8):\n",
    "        line = f.readline().strip('\\n')\n",
    "        for j in ind:\n",
    "            lines.append(line[j])\n",
    "    newl = np.array(lines).reshape(-1,9)\n",
    "\n",
    "    boxes = []\n",
    "    for i in range(9):\n",
    "        actline = list(newl[:,i])[::-1]\n",
    "        actline = [i for i in actline if i != ' ']\n",
    "        boxes.append(actline)\n",
    "\n",
    "    \n",
    "   \n",
    "    many = []\n",
    "    where_from = []\n",
    "    where_to = []\n",
    "    \n",
    "    line = f.readline()\n",
    "    line = f.readline()\n",
    "    line = f.readline().strip().split(' ')\n",
    "    \n",
    "    while line != ['']:\n",
    "        many.append(int(line[1]))\n",
    "        where_from.append(int(line[3])-1)\n",
    "        where_to.append(int(line[5])-1)\n",
    "        line = f.readline().strip().split(' ')\n",
    "    \n",
    "    \n",
    "    for i in range(len(many)):\n",
    "        howmany = many[i]\n",
    "        boxes[where_to[i]] += boxes[where_from[i]][-howmany:]\n",
    "        boxes[where_from[i]] = boxes[where_from[i]][:-howmany]\n",
    "\n",
    "            \n",
    "    valasz = []\n",
    "    for i in range(len(boxes)):\n",
    "        valasz.append(boxes[i][-1])\n",
    "    print(''.join(valasz))"
   ]
  },
  {
   "cell_type": "code",
   "execution_count": 117,
   "id": "1d1d9d97",
   "metadata": {},
   "outputs": [
    {
     "name": "stdout",
     "output_type": "stream",
     "text": [
      "[4, 5, 6, 7, 8, 9]\n",
      "[0, 1, 2, 3]\n"
     ]
    }
   ],
   "source": [
    "l = [i for i in range(10)]\n",
    "howmany = 6\n",
    "\n",
    "print(l[-howmany:])\n",
    "print(l[:-howmany])"
   ]
  }
 ],
 "metadata": {
  "kernelspec": {
   "display_name": "Python 3 (ipykernel)",
   "language": "python",
   "name": "python3"
  },
  "language_info": {
   "codemirror_mode": {
    "name": "ipython",
    "version": 3
   },
   "file_extension": ".py",
   "mimetype": "text/x-python",
   "name": "python",
   "nbconvert_exporter": "python",
   "pygments_lexer": "ipython3",
   "version": "3.9.12"
  }
 },
 "nbformat": 4,
 "nbformat_minor": 5
}
