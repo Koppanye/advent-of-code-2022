{
 "cells": [
  {
   "cell_type": "code",
   "execution_count": 5,
   "id": "b534f0ae",
   "metadata": {},
   "outputs": [
    {
     "name": "stdout",
     "output_type": "stream",
     "text": [
      "1361\n"
     ]
    }
   ],
   "source": [
    "#11. feladat:\n",
    "\n",
    "with open('11_feladat.txt', 'r') as f:\n",
    "    s = f.read().strip()\n",
    "    myind = min([i for i in range(3, len(s)) if len(set(s[i-3:i+1])) == 4]) + 1\n",
    "    print(myind)"
   ]
  },
  {
   "cell_type": "code",
   "execution_count": 6,
   "id": "98991df2",
   "metadata": {},
   "outputs": [
    {
     "name": "stdout",
     "output_type": "stream",
     "text": [
      "3263\n"
     ]
    }
   ],
   "source": [
    "#12. feladat:\n",
    "\n",
    "myind2 = min([i for i in range(13, len(s)) if len(set(s[i-13:i+1])) == 14]) + 1\n",
    "print(myind2)"
   ]
  }
 ],
 "metadata": {
  "kernelspec": {
   "display_name": "Python 3 (ipykernel)",
   "language": "python",
   "name": "python3"
  },
  "language_info": {
   "codemirror_mode": {
    "name": "ipython",
    "version": 3
   },
   "file_extension": ".py",
   "mimetype": "text/x-python",
   "name": "python",
   "nbconvert_exporter": "python",
   "pygments_lexer": "ipython3",
   "version": "3.9.12"
  }
 },
 "nbformat": 4,
 "nbformat_minor": 5
}
