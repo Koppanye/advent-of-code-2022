{
 "cells": [
  {
   "cell_type": "code",
   "execution_count": 1,
   "id": "1c0f5ea3",
   "metadata": {},
   "outputs": [
    {
     "name": "stdout",
     "output_type": "stream",
     "text": [
      "1466\n",
      "8250\n"
     ]
    }
   ],
   "source": [
    "import re\n",
    "import collections\n",
    "import math\n",
    "\n",
    "ORE, CLAY, OBSIDIAN, GEODE = 1, 2, 3, 4\n",
    "MATERIALS = [ORE, CLAY, OBSIDIAN, GEODE]\n",
    "\n",
    "def parse_blueprint(s):\n",
    "    q = list(map(int, re.findall(\"\\d+\", s)))\n",
    "    return {\n",
    "        ORE: {ORE: q[1]},\n",
    "        CLAY: {ORE: q[2]},\n",
    "        OBSIDIAN: {ORE: q[3], CLAY: q[4]},\n",
    "        GEODE: {ORE: q[5], OBSIDIAN: q[6]}\n",
    "    }\n",
    "\n",
    "def get_max_robots(bp):\n",
    "    max_robots = {m: 0 for m in MATERIALS}\n",
    "    max_robots[GEODE] = 100\n",
    "    for _, needs in bp.items():\n",
    "        for robot, qty in needs.items():\n",
    "            max_robots[robot] = max(max_robots[robot], qty)\n",
    "    return max_robots\n",
    "\n",
    "def get_build_options(bp, resources):\n",
    "    options = {0}\n",
    "    for robot, needs in bp.items():\n",
    "        if all(qty <= resources[need] for need, qty in needs.items()):\n",
    "            options.add(robot)\n",
    "    if GEODE in options:\n",
    "        return {GEODE}\n",
    "    return options\n",
    "\n",
    "def build_robot(bp, robots, resources, to_build):\n",
    "    robots[to_build] += 1\n",
    "    for resource, qty in bp[to_build].items():\n",
    "        resources[resource] -= qty\n",
    "        assert resources[resource] >= 0\n",
    "    return (robots, resources)\n",
    "\n",
    "def harvest(robots, resources):\n",
    "    for k, v in robots.items():\n",
    "        resources[k] += v\n",
    "    return resources\n",
    "\n",
    "def largest_for_bp(bp, end_time):\n",
    "    init_robots = {m: 0 for m in MATERIALS}\n",
    "    init_robots[ORE] = 1\n",
    "    stack = [(0, init_robots, {m: 0 for m in MATERIALS}, set())]\n",
    "    best_at_time = collections.defaultdict(int)\n",
    "    max_robots = get_max_robots(bp)\n",
    "    while stack:\n",
    "        t, robots, resources, skipped_last_iteration = stack.pop(0)\n",
    "        best_at_time[t] = max(best_at_time[t], resources[GEODE])\n",
    "        if t <= end_time and best_at_time[t] == resources[GEODE]:\n",
    "            options = get_build_options(bp, resources)\n",
    "            for to_build in options:\n",
    "                if not to_build:\n",
    "                    resources1 = harvest(robots, resources.copy())\n",
    "                    stack.append((t + 1, robots, resources1, options))\n",
    "                elif to_build in skipped_last_iteration:\n",
    "                    continue\n",
    "                elif robots[to_build] + 1 > max_robots[to_build]:\n",
    "                    continue\n",
    "                else:\n",
    "                    robots1, resources1 = build_robot(\n",
    "                        bp, robots.copy(), resources.copy(), to_build)\n",
    "                    resources1 = harvest(robots, resources1.copy())\n",
    "                    stack.insert(0, (t + 1, robots1, resources1, set()))\n",
    "    return best_at_time[end_time]\n",
    "\n",
    "bps = list(map(parse_blueprint, open('day_19.txt').read().split('\\n')))\n",
    "print(sum((i + 1) * largest_for_bp(bp, 24) for i, bp in enumerate(bps)))\n",
    "print(math.prod(largest_for_bp(bp, 32) for bp in bps[:3]))"
   ]
  }
 ],
 "metadata": {
  "kernelspec": {
   "display_name": "Python 3 (ipykernel)",
   "language": "python",
   "name": "python3"
  },
  "language_info": {
   "codemirror_mode": {
    "name": "ipython",
    "version": 3
   },
   "file_extension": ".py",
   "mimetype": "text/x-python",
   "name": "python",
   "nbconvert_exporter": "python",
   "pygments_lexer": "ipython3",
   "version": "3.9.12"
  }
 },
 "nbformat": 4,
 "nbformat_minor": 5
}
