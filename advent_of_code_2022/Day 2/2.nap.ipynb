{
 "cells": [
  {
   "cell_type": "code",
   "execution_count": 11,
   "id": "387fc8d5",
   "metadata": {},
   "outputs": [
    {
     "name": "stdout",
     "output_type": "stream",
     "text": [
      "12645\n"
     ]
    }
   ],
   "source": [
    "#3. feladat:\n",
    "\n",
    "outcomes = {\"A X\": 4, \"A Y\": 8, \"A Z\": 3,\n",
    "            \"B X\": 1, \"B Y\": 5, \"B Z\": 9,\n",
    "            \"C X\": 7, \"C Y\": 2, \"C Z\": 6}\n",
    "\n",
    "with open(\"3_feladat.txt\", \"r\") as f:\n",
    "    l = f.read().strip().split('\\n')\n",
    "    points = sum([outcomes[i] for i in l])\n",
    "    print(points)"
   ]
  },
  {
   "cell_type": "code",
   "execution_count": 12,
   "id": "1e87b2aa",
   "metadata": {},
   "outputs": [
    {
     "name": "stdout",
     "output_type": "stream",
     "text": [
      "11756\n"
     ]
    }
   ],
   "source": [
    "#4. feladat:\n",
    "\n",
    "outcomes2 = {\"A X\": 3, \"A Y\": 4, \"A Z\": 8,\n",
    "             \"B X\": 1, \"B Y\": 5, \"B Z\": 9,\n",
    "             \"C X\": 2, \"C Y\": 6, \"C Z\": 7}\n",
    "points = sum([outcomes2[i] for i in l])\n",
    "print(points)"
   ]
  }
 ],
 "metadata": {
  "kernelspec": {
   "display_name": "Python 3 (ipykernel)",
   "language": "python",
   "name": "python3"
  },
  "language_info": {
   "codemirror_mode": {
    "name": "ipython",
    "version": 3
   },
   "file_extension": ".py",
   "mimetype": "text/x-python",
   "name": "python",
   "nbconvert_exporter": "python",
   "pygments_lexer": "ipython3",
   "version": "3.9.12"
  }
 },
 "nbformat": 4,
 "nbformat_minor": 5
}
